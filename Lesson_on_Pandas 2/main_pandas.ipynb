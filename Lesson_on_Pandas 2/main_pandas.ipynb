{
 "cells": [
  {
   "cell_type": "code",
   "execution_count": 15,
   "metadata": {},
   "outputs": [
    {
     "data": {
      "text/plain": [
       "0    Saint-Petersburg\n",
       "1              Moscow\n",
       "2            Gatchina\n",
       "Name: City, dtype: object"
      ]
     },
     "execution_count": 15,
     "metadata": {},
     "output_type": "execute_result"
    }
   ],
   "source": [
    "import pandas as pd\n",
    "\n",
    "weather = (\n",
    "    {\n",
    "    \"City\": [\n",
    "        \"Saint-Petersburg\",\n",
    "        \"Moscow\",\n",
    "        \"Gatchina\"\n",
    "    ],\n",
    "    \"Season\":[\n",
    "        \"Autumn\",\n",
    "        \"Summer\",\n",
    "        \"Spring\",\n",
    "    ],\n",
    "    \"Precipitation\":\n",
    "    [\n",
    "        80, 50, 70\n",
    "    ],\n",
    "})\n",
    "\n",
    "data = pd.DataFrame(weather)\n",
    "\n",
    "data[\"City\"]"
   ]
  },
  {
   "cell_type": "code",
   "execution_count": 16,
   "metadata": {},
   "outputs": [
    {
     "data": {
      "text/plain": [
       "0    70\n",
       "1    40\n",
       "2    50\n",
       "Name: winter, dtype: int64"
      ]
     },
     "execution_count": 16,
     "metadata": {},
     "output_type": "execute_result"
    }
   ],
   "source": [
    "winter = pd.Series(\n",
    "    [70, 40, 50],\n",
    "    name=\"winter\"\n",
    ")\n",
    "\n",
    "winter"
   ]
  },
  {
   "cell_type": "code",
   "execution_count": 17,
   "metadata": {},
   "outputs": [
    {
     "data": {
      "text/html": [
       "<div>\n",
       "<style scoped>\n",
       "    .dataframe tbody tr th:only-of-type {\n",
       "        vertical-align: middle;\n",
       "    }\n",
       "\n",
       "    .dataframe tbody tr th {\n",
       "        vertical-align: top;\n",
       "    }\n",
       "\n",
       "    .dataframe thead th {\n",
       "        text-align: right;\n",
       "    }\n",
       "</style>\n",
       "<table border=\"1\" class=\"dataframe\">\n",
       "  <thead>\n",
       "    <tr style=\"text-align: right;\">\n",
       "      <th></th>\n",
       "      <th>City</th>\n",
       "      <th>Season</th>\n",
       "      <th>Precipitation</th>\n",
       "      <th>winter</th>\n",
       "      <th>other</th>\n",
       "    </tr>\n",
       "  </thead>\n",
       "  <tbody>\n",
       "    <tr>\n",
       "      <th>0</th>\n",
       "      <td>Saint-Petersburg</td>\n",
       "      <td>Autumn</td>\n",
       "      <td>80</td>\n",
       "      <td>70</td>\n",
       "      <td>60</td>\n",
       "    </tr>\n",
       "    <tr>\n",
       "      <th>1</th>\n",
       "      <td>Moscow</td>\n",
       "      <td>Summer</td>\n",
       "      <td>50</td>\n",
       "      <td>40</td>\n",
       "      <td>30</td>\n",
       "    </tr>\n",
       "    <tr>\n",
       "      <th>2</th>\n",
       "      <td>Gatchina</td>\n",
       "      <td>Spring</td>\n",
       "      <td>70</td>\n",
       "      <td>50</td>\n",
       "      <td>80</td>\n",
       "    </tr>\n",
       "  </tbody>\n",
       "</table>\n",
       "</div>"
      ],
      "text/plain": [
       "               City  Season  Precipitation  winter  other\n",
       "0  Saint-Petersburg  Autumn             80      70     60\n",
       "1            Moscow  Summer             50      40     30\n",
       "2          Gatchina  Spring             70      50     80"
      ]
     },
     "execution_count": 17,
     "metadata": {},
     "output_type": "execute_result"
    }
   ],
   "source": [
    "other = pd.Series(\n",
    "    [60, 30, 80],\n",
    "    name=\"other\"\n",
    ")\n",
    "\n",
    "conc = pd.concat([winter, other], axis=1)\n",
    "\n",
    "temp = pd.concat([data, conc], axis=1)\n",
    "temp\n",
    "\n"
   ]
  },
  {
   "cell_type": "code",
   "execution_count": null,
   "metadata": {},
   "outputs": [],
   "source": []
  }
 ],
 "metadata": {
  "kernelspec": {
   "display_name": "Python 3",
   "language": "python",
   "name": "python3"
  },
  "language_info": {
   "codemirror_mode": {
    "name": "ipython",
    "version": 3
   },
   "file_extension": ".py",
   "mimetype": "text/x-python",
   "name": "python",
   "nbconvert_exporter": "python",
   "pygments_lexer": "ipython3",
   "version": "3.12.6"
  }
 },
 "nbformat": 4,
 "nbformat_minor": 2
}
